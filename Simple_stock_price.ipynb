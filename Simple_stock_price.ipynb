{
 "cells": [
  {
   "cell_type": "code",
   "execution_count": null,
   "id": "63d2a8aa",
   "metadata": {},
   "outputs": [],
   "source": [
    "import yfinance as yf\n",
    "import streamlit as st\n",
    "import pandas as pd\n",
    "\n",
    "\n",
    "st.write(\"\"\"\n",
    "# Simple stock price App\n",
    "\n",
    "shown are the stock closing price and volume of Google!\n",
    "\n",
    "\"\"\")\n",
    "\n",
    "\n",
    "tickerSymbol = 'GOOGL'\n",
    "\n",
    "tickerData = yf.Ticker(tickerSymbol)\n",
    "\n",
    "tickerDf = tickerData.history(period='1d', start='2010-5-31', end='2020-5-31')\n",
    "\n",
    "st.line_chart(tickerDf.Close)\n",
    "st.line_chart(tickerDf.Volume)"
   ]
  }
 ],
 "metadata": {
  "kernelspec": {
   "display_name": "Python 3 (ipykernel)",
   "language": "python",
   "name": "python3"
  },
  "language_info": {
   "codemirror_mode": {
    "name": "ipython",
    "version": 3
   },
   "file_extension": ".py",
   "mimetype": "text/x-python",
   "name": "python",
   "nbconvert_exporter": "python",
   "pygments_lexer": "ipython3",
   "version": "3.9.15"
  }
 },
 "nbformat": 4,
 "nbformat_minor": 5
}
