{
 "cells": [
  {
   "cell_type": "code",
   "execution_count": 4,
   "id": "43ba1dc0",
   "metadata": {},
   "outputs": [],
   "source": [
    "import numpy as np\n",
    "import altair as alt\n",
    "import pandas as pd\n",
    "import streamlit as st\n",
    "import folium"
   ]
  },
  {
   "cell_type": "code",
   "execution_count": null,
   "id": "ca43e7cf",
   "metadata": {},
   "outputs": [],
   "source": [
    "# Using \"with\" notation \n",
    "# converting dataframe to csv with utf-8 encoding.\n",
    "def convert_df(df):\n",
    "    return df.to_csv().encode('utf-8')\n",
    "\n",
    "\n",
    "def clear_multi():\n",
    "    st.session_state.multiselect = []\n",
    "    return\n",
    "\n",
    "def convert_excel(path, sheet_name = 'Ark1', pri = True):\n",
    "    df = pd.read_excel(path, sheet_name)\n",
    "    if pri:\n",
    "        print('The first 5 rows of the loaded data:')\n",
    "        display_html(df.head())\n",
    "    return df\n",
    "\n",
    "def choose_headers(df, headers_list, pri):\n",
    "    temp_df = pd.DataFrame()\n",
    "    for i in range(len(headers_list)):\n",
    "        if pri:\n",
    "            print('Choosing the column \"', headers_list[i], '\"')\n",
    "        temp_df = pd.concat([temp_df, df[headers_list[i]]], axis = 1)\n",
    "    return temp_df\n",
    "\n",
    "def remove_nan(df):\n",
    "    df = df.dropna().reset_index(drop=True)\n",
    "    return df\n",
    "\n",
    "def choose_subsets(df, column_str_list, subset_str_list, pri):\n",
    "    temp_df = pd.DataFrame()\n",
    "    for i in range(len(column_str_list)):\n",
    "        if pri:\n",
    "            print('Choosing the rows with \"', subset_str_list[i], '\" in the \"', column_str_list[i], '\" column.')\n",
    "        temp_df = pd.concat([temp_df, df[df[column_str_list[i]] == subset_str_list[i]]])\n",
    "    return temp_df\n",
    "\n",
    "# Function to convert the dataframe back into an excel sheet.\n",
    "# More options will follow if there needs to be more sheets etc.\n",
    "# Inputs: Dataframe as converted by convert_excel, the name you wish the excel file to have (remember .xlsx)\n",
    "def convert_dataframe(df, name_str):\n",
    "    file = df.to_excel(name_str)\n",
    "\n"
   ]
  },
  {
   "cell_type": "code",
   "execution_count": 3,
   "id": "29395649",
   "metadata": {},
   "outputs": [
    {
     "name": "stderr",
     "output_type": "stream",
     "text": [
      "2023-04-13 11:41:08.047 \n",
      "  \u001b[33m\u001b[1mWarning:\u001b[0m to view this Streamlit app on a browser, run it with the following\n",
      "  command:\n",
      "\n",
      "    streamlit run C:\\Users\\AndersRolighedLarsen\\anaconda3\\envs\\Streamlit_test1\\lib\\site-packages\\ipykernel_launcher.py [ARGUMENTS]\n"
     ]
    },
    {
     "data": {
      "text/plain": [
       "DeltaGenerator(_root_container=0, _provided_cursor=None, _parent=None, _block_type=None, _form_data=None)"
      ]
     },
     "execution_count": 3,
     "metadata": {},
     "output_type": "execute_result"
    }
   ],
   "source": [
    "# Overskrift for applikationen\n",
    "st.header('Patentdata fra 2011 til 2022')\n",
    "\n",
    "# Beskrivelse af applikationen og en klar instruks om hvad man skal gøre.\n",
    "st.markdown('Dette er en applikation, der har til formål at fremhæve forskellige aspekter af patentdata fået fra [..]  ')\n"
   ]
  },
  {
   "cell_type": "code",
   "execution_count": 1,
   "id": "74280239",
   "metadata": {},
   "outputs": [
    {
     "ename": "NameError",
     "evalue": "name 'pd' is not defined",
     "output_type": "error",
     "traceback": [
      "\u001b[1;31m---------------------------------------------------------------------------\u001b[0m",
      "\u001b[1;31mNameError\u001b[0m                                 Traceback (most recent call last)",
      "Cell \u001b[1;32mIn[1], line 2\u001b[0m\n\u001b[0;32m      1\u001b[0m \u001b[38;5;66;03m# Load the data\u001b[39;00m\n\u001b[1;32m----> 2\u001b[0m data \u001b[38;5;241m=\u001b[39m \u001b[43mpd\u001b[49m\u001b[38;5;241m.\u001b[39mread_csv(\u001b[38;5;124m\"\u001b[39m\u001b[38;5;124mcoords_subset.csv\u001b[39m\u001b[38;5;124m\"\u001b[39m)\n\u001b[0;32m      4\u001b[0m \u001b[38;5;66;03m# Define the world map centered on the mean latitude and longitude\u001b[39;00m\n\u001b[0;32m      5\u001b[0m m \u001b[38;5;241m=\u001b[39m folium\u001b[38;5;241m.\u001b[39mMap(location\u001b[38;5;241m=\u001b[39m[data[\u001b[38;5;124m'\u001b[39m\u001b[38;5;124mLatitudes\u001b[39m\u001b[38;5;124m'\u001b[39m]\u001b[38;5;241m.\u001b[39mmean(), data[\u001b[38;5;124m'\u001b[39m\u001b[38;5;124mLongitudes\u001b[39m\u001b[38;5;124m'\u001b[39m]\u001b[38;5;241m.\u001b[39mmean()], zoom_start\u001b[38;5;241m=\u001b[39m\u001b[38;5;241m2\u001b[39m)\n",
      "\u001b[1;31mNameError\u001b[0m: name 'pd' is not defined"
     ]
    }
   ],
   "source": [
    "# Load the data\n",
    "data = pd.read_csv(\"coords_subset.csv\")\n",
    "\n",
    "# Define the world map centered on the mean latitude and longitude\n",
    "m = folium.Map(location=[data['Latitudes'].mean(), data['Longitudes'].mean()], zoom_start=2)\n",
    "\n",
    "# Define the color scheme for the groups\n",
    "color_scheme = {0: 'blue', 1: 'red', 2: 'green', 3: 'yellow', 4: 'purple'}\n",
    "\n",
    "# Add a marker for each country with a popup displaying its group\n",
    "for index, row in data.iterrows():\n",
    "    folium.Marker(location=[row['latitude'], row['longitude']],\n",
    "                  popup=row['Cluster'],\n",
    "                  icon=folium.Icon(color=color_scheme[row['Cluster']])).add_to(m)\n",
    "\n",
    "# Display the map\n",
    "st.markdown(folium_static(m))\n"
   ]
  }
 ],
 "metadata": {
  "kernelspec": {
   "display_name": "Python 3 (ipykernel)",
   "language": "python",
   "name": "python3"
  },
  "language_info": {
   "codemirror_mode": {
    "name": "ipython",
    "version": 3
   },
   "file_extension": ".py",
   "mimetype": "text/x-python",
   "name": "python",
   "nbconvert_exporter": "python",
   "pygments_lexer": "ipython3",
   "version": "3.9.15"
  }
 },
 "nbformat": 4,
 "nbformat_minor": 5
}
