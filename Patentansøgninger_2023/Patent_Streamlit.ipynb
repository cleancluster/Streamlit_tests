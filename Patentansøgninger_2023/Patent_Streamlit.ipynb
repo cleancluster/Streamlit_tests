{
 "cells": [
  {
   "cell_type": "code",
   "execution_count": 1,
   "id": "43ba1dc0",
   "metadata": {},
   "outputs": [],
   "source": [
    "import numpy as np\n",
    "import altair as alt\n",
    "import pandas as pd\n",
    "import streamlit as st\n",
    "import folium\n",
    "import plotly.express as px"
   ]
  },
  {
   "cell_type": "code",
   "execution_count": 2,
   "id": "ca43e7cf",
   "metadata": {},
   "outputs": [],
   "source": [
    "# Using \"with\" notation \n",
    "# converting dataframe to csv with utf-8 encoding.\n",
    "def convert_df(df):\n",
    "    return df.to_csv().encode('utf-8')\n",
    "\n",
    "\n",
    "def clear_multi():\n",
    "    st.session_state.multiselect = []\n",
    "    return\n",
    "\n",
    "def convert_excel(path, sheet_name = 'Ark1', pri = True):\n",
    "    df = pd.read_excel(path, sheet_name)\n",
    "    if pri:\n",
    "        print('The first 5 rows of the loaded data:')\n",
    "        display_html(df.head())\n",
    "    return df\n",
    "\n",
    "def choose_headers(df, headers_list, pri):\n",
    "    temp_df = pd.DataFrame()\n",
    "    for i in range(len(headers_list)):\n",
    "        if pri:\n",
    "            print('Choosing the column \"', headers_list[i], '\"')\n",
    "        temp_df = pd.concat([temp_df, df[headers_list[i]]], axis = 1)\n",
    "    return temp_df\n",
    "\n",
    "def remove_nan(df):\n",
    "    df = df.dropna().reset_index(drop=True)\n",
    "    return df\n",
    "\n",
    "def choose_subsets(df, column_str_list, subset_str_list, pri):\n",
    "    temp_df = pd.DataFrame()\n",
    "    for i in range(len(column_str_list)):\n",
    "        if pri:\n",
    "            print('Choosing the rows with \"', subset_str_list[i], '\" in the \"', column_str_list[i], '\" column.')\n",
    "        temp_df = pd.concat([temp_df, df[df[column_str_list[i]] == subset_str_list[i]]])\n",
    "    return temp_df\n",
    "\n",
    "# Function to convert the dataframe back into an excel sheet.\n",
    "# More options will follow if there needs to be more sheets etc.\n",
    "# Inputs: Dataframe as converted by convert_excel, the name you wish the excel file to have (remember .xlsx)\n",
    "def convert_dataframe(df, name_str):\n",
    "    file = df.to_excel(name_str)\n",
    "\n"
   ]
  },
  {
   "cell_type": "code",
   "execution_count": 3,
   "id": "29395649",
   "metadata": {},
   "outputs": [
    {
     "name": "stderr",
     "output_type": "stream",
     "text": [
      "2023-04-13 11:41:08.047 \n",
      "  \u001b[33m\u001b[1mWarning:\u001b[0m to view this Streamlit app on a browser, run it with the following\n",
      "  command:\n",
      "\n",
      "    streamlit run C:\\Users\\AndersRolighedLarsen\\anaconda3\\envs\\Streamlit_test1\\lib\\site-packages\\ipykernel_launcher.py [ARGUMENTS]\n"
     ]
    },
    {
     "data": {
      "text/plain": [
       "DeltaGenerator(_root_container=0, _provided_cursor=None, _parent=None, _block_type=None, _form_data=None)"
      ]
     },
     "execution_count": 3,
     "metadata": {},
     "output_type": "execute_result"
    }
   ],
   "source": [
    "# Overskrift for applikationen\n",
    "st.header('Patentdata fra 2011 til 2022')\n",
    "\n",
    "# Beskrivelse af applikationen og en klar instruks om hvad man skal gøre.\n",
    "st.markdown('Dette er en applikation, der har til formål at fremhæve forskellige aspekter af patentdata fået fra [..]  ')\n"
   ]
  },
  {
   "cell_type": "code",
   "execution_count": null,
   "id": "74280239",
   "metadata": {},
   "outputs": [],
   "source": [
    "# Load the data\n",
    "data = pd.read_csv(\"Patentansøgninger_2023/subset_with_coords.csv\")\n",
    "\n",
    "# Define the world map centered on the mean latitude and longitude\n",
    "color_map = {group: f\"rgb({i*50 % 255}, {i*100 % 255}, {i*150 % 255})\"\n",
    "             for i, group in enumerate(data['Cluster'].unique())}\n",
    "\n",
    "# Create a scatter plot with markers for each country, color-coded by group\n",
    "fig = px.scatter_geo(data, lat='Latitudes', lon='Longitudes', color='Cluster',\n",
    "                     color_discrete_map=color_map, hover_name='country')\n",
    "\n",
    "# Update the layout to set the map projection and the size\n",
    "fig.update_geos(projection_type='natural earth', showland=True, landcolor='lightgray',\n",
    "                showocean=True, oceancolor='azure', showcountries=True, countrycolor='gray')\n",
    "fig.update_layout(width=800, height=600, margin={\"r\":0,\"t\":0,\"l\":0,\"b\":0})\n",
    "\n",
    "# Display the map\n",
    "st.plotly_chart(fig)\n"
   ]
  }
 ],
 "metadata": {
  "kernelspec": {
   "display_name": "Python 3 (ipykernel)",
   "language": "python",
   "name": "python3"
  },
  "language_info": {
   "codemirror_mode": {
    "name": "ipython",
    "version": 3
   },
   "file_extension": ".py",
   "mimetype": "text/x-python",
   "name": "python",
   "nbconvert_exporter": "python",
   "pygments_lexer": "ipython3",
   "version": "3.9.15"
  }
 },
 "nbformat": 4,
 "nbformat_minor": 5
}
