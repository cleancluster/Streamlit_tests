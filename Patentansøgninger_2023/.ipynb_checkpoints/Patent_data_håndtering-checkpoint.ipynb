{
 "cells": [
  {
   "cell_type": "code",
   "execution_count": 1,
   "id": "0adb429d",
   "metadata": {},
   "outputs": [],
   "source": [
    "import pandas as pd\n",
    "import numpy as np\n",
    "from IPython.display import display_html\n",
    "import matplotlib.pyplot as plt\n",
    "import numpy as np\n",
    "import xlsxwriter\n",
    "import math\n",
    "pd.options.mode.chained_assignment = None  # default='warn'"
   ]
  },
  {
   "cell_type": "code",
   "execution_count": 2,
   "id": "3782f925",
   "metadata": {},
   "outputs": [],
   "source": [
    "def convert_excel(path, sheet_name = 'Ark1', pri = True):\n",
    "    df = pd.read_excel(path, sheet_name)\n",
    "    if pri:\n",
    "        print('The first 5 rows of the loaded data:')\n",
    "        display_html(df.head())\n",
    "    return df\n",
    "\n",
    "def choose_headers(df, headers_list, pri):\n",
    "    temp_df = pd.DataFrame()\n",
    "    for i in range(len(headers_list)):\n",
    "        if pri:\n",
    "            print('Choosing the column \"', headers_list[i], '\"')\n",
    "        temp_df = pd.concat([temp_df, df[headers_list[i]]], axis = 1)\n",
    "    return temp_df\n",
    "\n",
    "def remove_nan(df):\n",
    "    df = df.dropna().reset_index(drop=True)\n",
    "    return df\n",
    "\n",
    "def choose_subsets(df, column_str_list, subset_str_list, pri):\n",
    "    temp_df = pd.DataFrame()\n",
    "    for i in range(len(column_str_list)):\n",
    "        if pri:\n",
    "            print('Choosing the rows with \"', subset_str_list[i], '\" in the \"', column_str_list[i], '\" column.')\n",
    "        temp_df = pd.concat([temp_df, df[df[column_str_list[i]] == subset_str_list[i]]])\n",
    "    return temp_df\n",
    "\n",
    "# Function to convert the dataframe back into an excel sheet.\n",
    "# More options will follow if there needs to be more sheets etc.\n",
    "# Inputs: Dataframe as converted by convert_excel, the name you wish the excel file to have (remember .xlsx)\n",
    "def convert_dataframe(df, name_str):\n",
    "    file = df.to_excel(name_str)\n",
    "\n"
   ]
  },
  {
   "cell_type": "markdown",
   "id": "2d69e462",
   "metadata": {},
   "source": [
    "## Strategi for data:\n",
    "- Identificer hvor mange patenter fra de forskellige lande (forskel mellem længden af DK patenter fundet her og miljøteknologi dataen \"på tværs af teknikområder\"). **DONE**\n",
    "- Hvor mange virksomheder er disse patenter spredt over, hvilke virksomheder står for størstedelen af patenterne? Sammenlign dette med størrelsen af virksomheden. Er der nogen virksomheder som stikker ud i forhold til at de er en lille virksomhed, men med mange patentansøgninger og vice versa? **GØR DETTE FOR DK** **SPURGT EMIL**\n",
    "- Hvilke år har været gode? Har f.eks. corona påvirket dette? **DONE**\n",
    "- Gruppér lande pba deres patentsøgninger indenfor de forskellige teknikområder.\n",
    "- HUSK AT KIGGE PÅ PATENTER PR. 100.000 INDBYGGERE. **DONE**\n",
    "- Kan de andre kolonner bruges til noget? \"publn_auth\", \"family_id\", \"publn_nr\"? \n",
    "- Måske noget med eu_members\n",
    "- Kig efter hvor danmark har flest patenter, hvilke teknikområder"
   ]
  },
  {
   "cell_type": "code",
   "execution_count": 3,
   "id": "7952b8d9",
   "metadata": {
    "scrolled": true
   },
   "outputs": [],
   "source": [
    "df_rådata = convert_excel(\"C:/Users/Nedan/CLEAN/Tasks/Patentansøgninger_2023/Miljøteknologi rådata.xlsx\", sheet_name=\"DATA_til_eksport_v2\", pri=False)\n",
    "df_countrycodes = convert_excel(\"C:/Users/Nedan/CLEAN/Tasks/Patentansøgninger_2023/Countrycodes.xlsx\", sheet_name=\"Countrycodes\", pri=False)\n",
    "df_populations = convert_excel(\"C:/Users/Nedan/CLEAN/Tasks/Patentansøgninger_2023/world_population.xlsx\", sheet_name=\"world_population\", pri=False)"
   ]
  },
  {
   "cell_type": "code",
   "execution_count": 4,
   "id": "c934b9f8",
   "metadata": {},
   "outputs": [
    {
     "name": "stdout",
     "output_type": "stream",
     "text": [
      "Choosing the rows with \" DK \" in the \" person_ctry_code \" column.\n"
     ]
    },
    {
     "data": {
      "text/plain": [
       "1528"
      ]
     },
     "execution_count": 4,
     "metadata": {},
     "output_type": "execute_result"
    }
   ],
   "source": [
    "df_dk = choose_subsets(df_rådata, [\"person_ctry_code\"], [\"DK\"], True)\n",
    "len(df_dk)"
   ]
  },
  {
   "cell_type": "code",
   "execution_count": 5,
   "id": "3d49a364",
   "metadata": {},
   "outputs": [
    {
     "name": "stdout",
     "output_type": "stream",
     "text": [
      "There are  334  different companies who requested a patent in the years 2011 - 2022 from Denmark\n"
     ]
    }
   ],
   "source": [
    "print(\"There are \", len(df_dk[\"psn_name\"].unique()), \" different companies who requested a patent in the years 2011 - 2022 from Denmark\")"
   ]
  },
  {
   "cell_type": "code",
   "execution_count": 6,
   "id": "7f051980",
   "metadata": {},
   "outputs": [
    {
     "name": "stdout",
     "output_type": "stream",
     "text": [
      "There are  93  different countries in the data\n"
     ]
    }
   ],
   "source": [
    "print(\"There are \", len(df_rådata[\"person_ctry_code\"].unique()), \" different countries in the data\")"
   ]
  },
  {
   "cell_type": "markdown",
   "id": "f976c79a",
   "metadata": {},
   "source": [
    "## Omdanner rådata til at være patenter pr. 100.000 indbyggere"
   ]
  },
  {
   "cell_type": "markdown",
   "id": "76eb020d",
   "metadata": {},
   "source": [
    "### Mapper navnene fra countrycodes over til udskrevne navne (Her er der nogen som får et lidt mærkeligt navn, det bliver addresseret senere)"
   ]
  },
  {
   "cell_type": "code",
   "execution_count": 7,
   "id": "593a272e",
   "metadata": {},
   "outputs": [],
   "source": [
    "list1 = list(df_countrycodes[\"Column2\"])\n",
    "list2 = list(df_countrycodes[\"Column1\"])"
   ]
  },
  {
   "cell_type": "code",
   "execution_count": 8,
   "id": "2177e7cb",
   "metadata": {},
   "outputs": [],
   "source": [
    "replacement_map = {l1: l2 for l1, l2 in zip(list1, list2)}\n",
    "df_rådata[\"person_ctry_code\"] = df_rådata[\"person_ctry_code\"].map(replacement_map)"
   ]
  },
  {
   "cell_type": "code",
   "execution_count": 10,
   "id": "9758bf47",
   "metadata": {},
   "outputs": [],
   "source": [
    "pop = df_populations[[\"Country/Territory\",\"2022 Population\"]]\n",
    "pop[\"Population / 100000\"] = pop[\"2022 Population\"]/100000"
   ]
  },
  {
   "cell_type": "code",
   "execution_count": 11,
   "id": "75ff2d0c",
   "metadata": {},
   "outputs": [],
   "source": [
    "patents = df_rådata.groupby([\"person_ctry_code\"]).size()"
   ]
  },
  {
   "cell_type": "code",
   "execution_count": 12,
   "id": "2a5bb448",
   "metadata": {},
   "outputs": [],
   "source": [
    "pop = choose_subsets(pop, [\"Country/Territory\" for i in range(len(list(patents.keys())))], list(patents.keys()), pri=False)"
   ]
  },
  {
   "cell_type": "markdown",
   "id": "9f722e4c",
   "metadata": {},
   "source": [
    "##### Der er pt kun 88 af landende som kommer videre fra dataframen, ud af de 93 der er i rådata. (navneforskel)?"
   ]
  },
  {
   "cell_type": "code",
   "execution_count": 13,
   "id": "0474b6a7",
   "metadata": {},
   "outputs": [
    {
     "data": {
      "text/plain": [
       "['CuraÃ§ao',\n",
       " 'Taiwan, Province of China',\n",
       " 'Korea, Republic of',\n",
       " 'Russian Federation',\n",
       " 'Virgin Islands, British']"
      ]
     },
     "execution_count": 13,
     "metadata": {},
     "output_type": "execute_result"
    }
   ],
   "source": [
    "list(set(list(patents.keys()))-set(list(pop[\"Country/Territory\"])))"
   ]
  },
  {
   "cell_type": "markdown",
   "id": "31763c84",
   "metadata": {},
   "source": [
    "##### Manuel tilføjelse af de sidste 5 til dataen"
   ]
  },
  {
   "cell_type": "code",
   "execution_count": 14,
   "id": "e8d40dd9",
   "metadata": {},
   "outputs": [],
   "source": [
    "pop.loc[1000] = [\"Taiwan\", 23893394, 23893394/100000]\n",
    "pop.loc[1001] = [\"Curacao\", 191163, 191163/100000]\n",
    "pop.loc[1002] = [\"South Korea\", 51815810, 51815810/100000]\n",
    "pop.loc[1003] = [\"Russia\", 144713314, 144713314/100000]\n",
    "pop.loc[1004] = [\"United States Virgin Islands\", 99465, 99465/100000]"
   ]
  },
  {
   "cell_type": "markdown",
   "id": "cce5de19",
   "metadata": {},
   "source": [
    "### Nu indeholder \"pop\" 93 lande, som stemmer overens med de 93 unikke lande der indgår i patentdataen. I \"pop\" er der population og population/100000"
   ]
  },
  {
   "cell_type": "markdown",
   "id": "205cb701",
   "metadata": {},
   "source": [
    "## Hvilke lande har flest patentansøgninger pr. 100.000 indbyggere"
   ]
  },
  {
   "cell_type": "code",
   "execution_count": 15,
   "id": "4d4626a0",
   "metadata": {},
   "outputs": [],
   "source": [
    "df_rådata['person_ctry_code'] = df_rådata['person_ctry_code'].str.replace(\"Virgin Islands, British\",\"United States Virgin Islands\")\n",
    "df_rådata['person_ctry_code'] = df_rådata['person_ctry_code'].str.replace(\"CuraÃ§ao\",\"Curacao\")\n",
    "df_rådata['person_ctry_code'] = df_rådata['person_ctry_code'].str.replace(\"Korea, Republic of\",\"South Korea\")\n",
    "df_rådata['person_ctry_code'] = df_rådata['person_ctry_code'].str.replace(\"Taiwan, Province of China\",\"Taiwan\")\n",
    "df_rådata['person_ctry_code'] = df_rådata['person_ctry_code'].str.replace(\"Russian Federation\",\"Russia\")"
   ]
  },
  {
   "cell_type": "code",
   "execution_count": 16,
   "id": "236a6c42",
   "metadata": {},
   "outputs": [],
   "source": [
    "patents = df_rådata.groupby([\"person_ctry_code\"]).size()\n",
    "pop = pop.sort_values(by=[\"Country/Territory\"])"
   ]
  },
  {
   "cell_type": "markdown",
   "id": "f3c5ec5b",
   "metadata": {},
   "source": [
    "#### Antallet af patenter pr. 100.000 indbyggere:"
   ]
  },
  {
   "cell_type": "code",
   "execution_count": 17,
   "id": "66562256",
   "metadata": {},
   "outputs": [],
   "source": [
    "num_patents = list(df_rådata.groupby([\"person_ctry_code\"]).size().values)\n",
    "num_100000 = list(pop[\"Population / 100000\"])\n",
    "res = [i / j for i, j in zip(num_patents, num_100000)]\n",
    "df_patents = pd.DataFrame(patents)\n",
    "df_patents = df_patents.rename(columns = {0:\"Patents\"})\n",
    "df_patents[\"2022 Inhabitants\"] = list(pop[\"2022 Population\"])\n",
    "df_patents[\"patents/(inhabitants/100000)\"] = res"
   ]
  },
  {
   "cell_type": "markdown",
   "id": "341299db",
   "metadata": {},
   "source": [
    "#### Top 15 lande :  patenter/100000 indbyggere"
   ]
  },
  {
   "cell_type": "code",
   "execution_count": 18,
   "id": "8ab69c65",
   "metadata": {},
   "outputs": [
    {
     "data": {
      "text/html": [
       "<div>\n",
       "<style scoped>\n",
       "    .dataframe tbody tr th:only-of-type {\n",
       "        vertical-align: middle;\n",
       "    }\n",
       "\n",
       "    .dataframe tbody tr th {\n",
       "        vertical-align: top;\n",
       "    }\n",
       "\n",
       "    .dataframe thead th {\n",
       "        text-align: right;\n",
       "    }\n",
       "</style>\n",
       "<table border=\"1\" class=\"dataframe\">\n",
       "  <thead>\n",
       "    <tr style=\"text-align: right;\">\n",
       "      <th></th>\n",
       "      <th>Patents</th>\n",
       "      <th>2022 Inhabitants</th>\n",
       "      <th>patents/(inhabitants/100000)</th>\n",
       "    </tr>\n",
       "    <tr>\n",
       "      <th>person_ctry_code</th>\n",
       "      <th></th>\n",
       "      <th></th>\n",
       "      <th></th>\n",
       "    </tr>\n",
       "  </thead>\n",
       "  <tbody>\n",
       "    <tr>\n",
       "      <th>Luxembourg</th>\n",
       "      <td>359</td>\n",
       "      <td>647599</td>\n",
       "      <td>55.435540</td>\n",
       "    </tr>\n",
       "    <tr>\n",
       "      <th>United States Virgin Islands</th>\n",
       "      <td>52</td>\n",
       "      <td>99465</td>\n",
       "      <td>52.279696</td>\n",
       "    </tr>\n",
       "    <tr>\n",
       "      <th>Switzerland</th>\n",
       "      <td>4043</td>\n",
       "      <td>8740472</td>\n",
       "      <td>46.256083</td>\n",
       "    </tr>\n",
       "    <tr>\n",
       "      <th>Finland</th>\n",
       "      <td>1999</td>\n",
       "      <td>5540745</td>\n",
       "      <td>36.078181</td>\n",
       "    </tr>\n",
       "    <tr>\n",
       "      <th>Monaco</th>\n",
       "      <td>10</td>\n",
       "      <td>36469</td>\n",
       "      <td>27.420549</td>\n",
       "    </tr>\n",
       "    <tr>\n",
       "      <th>Denmark</th>\n",
       "      <td>1528</td>\n",
       "      <td>5882261</td>\n",
       "      <td>25.976406</td>\n",
       "    </tr>\n",
       "    <tr>\n",
       "      <th>Netherlands</th>\n",
       "      <td>3573</td>\n",
       "      <td>17564014</td>\n",
       "      <td>20.342730</td>\n",
       "    </tr>\n",
       "    <tr>\n",
       "      <th>Sweden</th>\n",
       "      <td>2059</td>\n",
       "      <td>10549347</td>\n",
       "      <td>19.517796</td>\n",
       "    </tr>\n",
       "    <tr>\n",
       "      <th>Germany</th>\n",
       "      <td>15501</td>\n",
       "      <td>83369843</td>\n",
       "      <td>18.593054</td>\n",
       "    </tr>\n",
       "    <tr>\n",
       "      <th>Norway</th>\n",
       "      <td>944</td>\n",
       "      <td>5434319</td>\n",
       "      <td>17.371082</td>\n",
       "    </tr>\n",
       "    <tr>\n",
       "      <th>United States</th>\n",
       "      <td>58544</td>\n",
       "      <td>338289857</td>\n",
       "      <td>17.305869</td>\n",
       "    </tr>\n",
       "    <tr>\n",
       "      <th>Israel</th>\n",
       "      <td>1557</td>\n",
       "      <td>9038309</td>\n",
       "      <td>17.226674</td>\n",
       "    </tr>\n",
       "    <tr>\n",
       "      <th>Japan</th>\n",
       "      <td>21301</td>\n",
       "      <td>123951692</td>\n",
       "      <td>17.184921</td>\n",
       "    </tr>\n",
       "    <tr>\n",
       "      <th>Belgium</th>\n",
       "      <td>1794</td>\n",
       "      <td>11655930</td>\n",
       "      <td>15.391307</td>\n",
       "    </tr>\n",
       "    <tr>\n",
       "      <th>Austria</th>\n",
       "      <td>1197</td>\n",
       "      <td>8939617</td>\n",
       "      <td>13.389835</td>\n",
       "    </tr>\n",
       "  </tbody>\n",
       "</table>\n",
       "</div>"
      ],
      "text/plain": [
       "                              Patents  2022 Inhabitants  \\\n",
       "person_ctry_code                                          \n",
       "Luxembourg                        359            647599   \n",
       "United States Virgin Islands       52             99465   \n",
       "Switzerland                      4043           8740472   \n",
       "Finland                          1999           5540745   \n",
       "Monaco                             10             36469   \n",
       "Denmark                          1528           5882261   \n",
       "Netherlands                      3573          17564014   \n",
       "Sweden                           2059          10549347   \n",
       "Germany                         15501          83369843   \n",
       "Norway                            944           5434319   \n",
       "United States                   58544         338289857   \n",
       "Israel                           1557           9038309   \n",
       "Japan                           21301         123951692   \n",
       "Belgium                          1794          11655930   \n",
       "Austria                          1197           8939617   \n",
       "\n",
       "                              patents/(inhabitants/100000)  \n",
       "person_ctry_code                                            \n",
       "Luxembourg                                       55.435540  \n",
       "United States Virgin Islands                     52.279696  \n",
       "Switzerland                                      46.256083  \n",
       "Finland                                          36.078181  \n",
       "Monaco                                           27.420549  \n",
       "Denmark                                          25.976406  \n",
       "Netherlands                                      20.342730  \n",
       "Sweden                                           19.517796  \n",
       "Germany                                          18.593054  \n",
       "Norway                                           17.371082  \n",
       "United States                                    17.305869  \n",
       "Israel                                           17.226674  \n",
       "Japan                                            17.184921  \n",
       "Belgium                                          15.391307  \n",
       "Austria                                          13.389835  "
      ]
     },
     "execution_count": 18,
     "metadata": {},
     "output_type": "execute_result"
    }
   ],
   "source": [
    "df_patents.sort_values(by=[\"patents/(inhabitants/100000)\"], ascending=False)[0:15]"
   ]
  },
  {
   "cell_type": "markdown",
   "id": "aa323cd6",
   "metadata": {},
   "source": [
    "#### Top 25 lande : Udelukkende indbyggere"
   ]
  },
  {
   "cell_type": "code",
   "execution_count": 19,
   "id": "fdae1da1",
   "metadata": {},
   "outputs": [
    {
     "data": {
      "text/html": [
       "<div>\n",
       "<style scoped>\n",
       "    .dataframe tbody tr th:only-of-type {\n",
       "        vertical-align: middle;\n",
       "    }\n",
       "\n",
       "    .dataframe tbody tr th {\n",
       "        vertical-align: top;\n",
       "    }\n",
       "\n",
       "    .dataframe thead th {\n",
       "        text-align: right;\n",
       "    }\n",
       "</style>\n",
       "<table border=\"1\" class=\"dataframe\">\n",
       "  <thead>\n",
       "    <tr style=\"text-align: right;\">\n",
       "      <th></th>\n",
       "      <th>Patents</th>\n",
       "      <th>2022 Inhabitants</th>\n",
       "      <th>patents/(inhabitants/100000)</th>\n",
       "    </tr>\n",
       "    <tr>\n",
       "      <th>person_ctry_code</th>\n",
       "      <th></th>\n",
       "      <th></th>\n",
       "      <th></th>\n",
       "    </tr>\n",
       "  </thead>\n",
       "  <tbody>\n",
       "    <tr>\n",
       "      <th>China</th>\n",
       "      <td>160</td>\n",
       "      <td>1425887337</td>\n",
       "      <td>0.011221</td>\n",
       "    </tr>\n",
       "    <tr>\n",
       "      <th>India</th>\n",
       "      <td>18</td>\n",
       "      <td>1417173173</td>\n",
       "      <td>0.001270</td>\n",
       "    </tr>\n",
       "    <tr>\n",
       "      <th>United States</th>\n",
       "      <td>58544</td>\n",
       "      <td>338289857</td>\n",
       "      <td>17.305869</td>\n",
       "    </tr>\n",
       "    <tr>\n",
       "      <th>Indonesia</th>\n",
       "      <td>2</td>\n",
       "      <td>275501339</td>\n",
       "      <td>0.000726</td>\n",
       "    </tr>\n",
       "    <tr>\n",
       "      <th>Brazil</th>\n",
       "      <td>34</td>\n",
       "      <td>215313498</td>\n",
       "      <td>0.015791</td>\n",
       "    </tr>\n",
       "    <tr>\n",
       "      <th>Bangladesh</th>\n",
       "      <td>1</td>\n",
       "      <td>171186372</td>\n",
       "      <td>0.000584</td>\n",
       "    </tr>\n",
       "    <tr>\n",
       "      <th>Russia</th>\n",
       "      <td>14</td>\n",
       "      <td>144713314</td>\n",
       "      <td>0.009674</td>\n",
       "    </tr>\n",
       "    <tr>\n",
       "      <th>Mexico</th>\n",
       "      <td>26</td>\n",
       "      <td>127504125</td>\n",
       "      <td>0.020391</td>\n",
       "    </tr>\n",
       "    <tr>\n",
       "      <th>Japan</th>\n",
       "      <td>21301</td>\n",
       "      <td>123951692</td>\n",
       "      <td>17.184921</td>\n",
       "    </tr>\n",
       "    <tr>\n",
       "      <th>Ethiopia</th>\n",
       "      <td>1</td>\n",
       "      <td>123379924</td>\n",
       "      <td>0.000811</td>\n",
       "    </tr>\n",
       "    <tr>\n",
       "      <th>Philippines</th>\n",
       "      <td>2</td>\n",
       "      <td>115559009</td>\n",
       "      <td>0.001731</td>\n",
       "    </tr>\n",
       "    <tr>\n",
       "      <th>Egypt</th>\n",
       "      <td>2</td>\n",
       "      <td>110990103</td>\n",
       "      <td>0.001802</td>\n",
       "    </tr>\n",
       "    <tr>\n",
       "      <th>Turkey</th>\n",
       "      <td>7</td>\n",
       "      <td>85341241</td>\n",
       "      <td>0.008202</td>\n",
       "    </tr>\n",
       "    <tr>\n",
       "      <th>Germany</th>\n",
       "      <td>15501</td>\n",
       "      <td>83369843</td>\n",
       "      <td>18.593054</td>\n",
       "    </tr>\n",
       "    <tr>\n",
       "      <th>Thailand</th>\n",
       "      <td>4</td>\n",
       "      <td>71697030</td>\n",
       "      <td>0.005579</td>\n",
       "    </tr>\n",
       "  </tbody>\n",
       "</table>\n",
       "</div>"
      ],
      "text/plain": [
       "                  Patents  2022 Inhabitants  patents/(inhabitants/100000)\n",
       "person_ctry_code                                                         \n",
       "China                 160        1425887337                      0.011221\n",
       "India                  18        1417173173                      0.001270\n",
       "United States       58544         338289857                     17.305869\n",
       "Indonesia               2         275501339                      0.000726\n",
       "Brazil                 34         215313498                      0.015791\n",
       "Bangladesh              1         171186372                      0.000584\n",
       "Russia                 14         144713314                      0.009674\n",
       "Mexico                 26         127504125                      0.020391\n",
       "Japan               21301         123951692                     17.184921\n",
       "Ethiopia                1         123379924                      0.000811\n",
       "Philippines             2         115559009                      0.001731\n",
       "Egypt                   2         110990103                      0.001802\n",
       "Turkey                  7          85341241                      0.008202\n",
       "Germany             15501          83369843                     18.593054\n",
       "Thailand                4          71697030                      0.005579"
      ]
     },
     "execution_count": 19,
     "metadata": {},
     "output_type": "execute_result"
    }
   ],
   "source": [
    "df_patents.sort_values(by=[\"2022 Inhabitants\"], ascending=False)[0:15]"
   ]
  },
  {
   "cell_type": "markdown",
   "id": "80ce45fd",
   "metadata": {},
   "source": [
    "### Hvilke år har været gode? Har f.eks. corona påvirket dette?"
   ]
  },
  {
   "cell_type": "code",
   "execution_count": 20,
   "id": "8aabca33",
   "metadata": {},
   "outputs": [],
   "source": [
    "top_15 = list(df_patents.sort_values(by=[\"patents/(inhabitants/100000)\"], ascending=False)[0:15].index)"
   ]
  },
  {
   "cell_type": "code",
   "execution_count": 21,
   "id": "5b4df9f8",
   "metadata": {},
   "outputs": [],
   "source": [
    "top_15_grouped = df_rådata.groupby([\"person_ctry_code\", \"earliest_publn_year\"]).size().loc[top_15]"
   ]
  },
  {
   "cell_type": "code",
   "execution_count": 22,
   "id": "fc6ccb6c",
   "metadata": {},
   "outputs": [],
   "source": [
    "top_15_grouped_normed = top_15_grouped\n",
    "for country in top_15:\n",
    "    patents_sum = (df_rådata.groupby([\"person_ctry_code\", \"earliest_publn_year\"]).size().loc[country].sum())\n",
    "    patents_norm = df_rådata.groupby([\"person_ctry_code\", \"earliest_publn_year\"]).size().loc[country].values/patents_sum\n",
    "    top_15_grouped_normed.loc[country] = patents_norm"
   ]
  },
  {
   "cell_type": "code",
   "execution_count": 23,
   "id": "00369a99",
   "metadata": {},
   "outputs": [
    {
     "data": {
      "image/png": "[encoded data removed]",
      "text/plain": [
       "<Figure size 640x480 with 1 Axes>"
      ]
     },
     "metadata": {},
     "output_type": "display_data"
    }
   ],
   "source": [
    "cmap = plt.get_cmap('gnuplot')\n",
    "colors = [cmap(i) for i in np.linspace(0, 1, len(top_15))]\n",
    "\n",
    "i=0\n",
    "for country in top_15:\n",
    "    plt.plot(top_15_grouped_normed.loc[country], label=country, color=colors[i])\n",
    "    i += 1\n",
    "\n",
    "plt.legend(bbox_to_anchor=(1.04, 1), loc=\"upper left\")\n",
    "plt.ylabel(\"Distribution of patents\")\n",
    "plt.xlabel(\"Year of patents\")\n",
    "plt.show()"
   ]
  },
  {
   "cell_type": "markdown",
   "id": "ae3cb2ac",
   "metadata": {},
   "source": [
    "## Virksomheder inden for de forskellige lande"
   ]
  },
  {
   "cell_type": "code",
   "execution_count": 24,
   "id": "e02285e5",
   "metadata": {},
   "outputs": [],
   "source": [
    "companies_grouped = df_rådata.groupby([\"person_ctry_code\", \"psn_name\"]).size()"
   ]
  },
  {
   "cell_type": "code",
   "execution_count": 25,
   "id": "90213f02",
   "metadata": {},
   "outputs": [],
   "source": [
    "countries = list(df_rådata[\"person_ctry_code\"].unique())\n",
    "companies_spread_dict = {}\n",
    "\n",
    "for country in countries:\n",
    "    companies_spread_dict[country] = companies_grouped.loc[country].sum()/len(companies_grouped.loc[country])"
   ]
  },
  {
   "cell_type": "code",
   "execution_count": 26,
   "id": "0c239069",
   "metadata": {},
   "outputs": [],
   "source": [
    "companies_spread_dict = dict(sorted(companies_spread_dict.items(), key=lambda item: item[1], reverse=True))"
   ]
  },
  {
   "cell_type": "code",
   "execution_count": 27,
   "id": "e1f3db8e",
   "metadata": {},
   "outputs": [
    {
     "data": {
      "image/png": "[encoded data removed]",
      "text/plain": [
       "<Figure size 640x480 with 1 Axes>"
      ]
     },
     "metadata": {},
     "output_type": "display_data"
    }
   ],
   "source": [
    "k = 15\n",
    "top_k_spread = dict(list(companies_spread_dict.items())[:k])\n",
    "\n",
    "fig, ax = plt.subplots()\n",
    "ax.barh(list(top_k_spread.keys()),list(top_k_spread.values()), color = 'mediumseagreen')\n",
    "ax.set_xlabel(\"Number of patents / number of companies\")\n",
    "ax.invert_yaxis()"
   ]
  },
  {
   "cell_type": "markdown",
   "id": "8bc2ad32",
   "metadata": {},
   "source": [
    "## Danske virksomheder EXCEL ARK MED OPSLAG"
   ]
  },
  {
   "cell_type": "code",
   "execution_count": 28,
   "id": "8c573aae",
   "metadata": {},
   "outputs": [],
   "source": [
    "DK_companies = pd.DataFrame(companies_grouped.loc[\"Denmark\"])\n",
    "DK_companies = DK_companies.rename(columns={0:\"Antal Patenter\"})"
   ]
  },
  {
   "cell_type": "code",
   "execution_count": 30,
   "id": "59414c0b",
   "metadata": {},
   "outputs": [],
   "source": [
    "DK_companies = DK_companies.sort_values(by=[\"Antal Patenter\"], ascending=False)\n",
    "DK_companies_df = pd.DataFrame(DK_companies)\n",
    "#convert_dataframe(DK_companies_df, \"Danske_Virksomheder_patentansøgninger.xlsx\")"
   ]
  },
  {
   "cell_type": "markdown",
   "id": "f313cf32",
   "metadata": {},
   "source": [
    "## Gruppering af lande indenfor teknikområder"
   ]
  },
  {
   "cell_type": "code",
   "execution_count": 32,
   "id": "752f1ce3",
   "metadata": {},
   "outputs": [
    {
     "data": {
      "text/html": [
       "<div>\n",
       "<style scoped>\n",
       "    .dataframe tbody tr th:only-of-type {\n",
       "        vertical-align: middle;\n",
       "    }\n",
       "\n",
       "    .dataframe tbody tr th {\n",
       "        vertical-align: top;\n",
       "    }\n",
       "\n",
       "    .dataframe thead th {\n",
       "        text-align: right;\n",
       "    }\n",
       "</style>\n",
       "<table border=\"1\" class=\"dataframe\">\n",
       "  <thead>\n",
       "    <tr style=\"text-align: right;\">\n",
       "      <th></th>\n",
       "      <th>docdb_family_id</th>\n",
       "      <th>publn_auth</th>\n",
       "      <th>publn_nr</th>\n",
       "      <th>earliest_publn_year</th>\n",
       "      <th>psn_name</th>\n",
       "      <th>person_ctry_code</th>\n",
       "      <th>eu_member</th>\n",
       "      <th>Affald</th>\n",
       "      <th>Klimatilpasning</th>\n",
       "      <th>Luft</th>\n",
       "      <th>Natur</th>\n",
       "      <th>Vand</th>\n",
       "    </tr>\n",
       "  </thead>\n",
       "  <tbody>\n",
       "    <tr>\n",
       "      <th>0</th>\n",
       "      <td>3833063</td>\n",
       "      <td>US</td>\n",
       "      <td>2012090604</td>\n",
       "      <td>2012</td>\n",
       "      <td>MAP PHARMACEUTICALS</td>\n",
       "      <td>United States</td>\n",
       "      <td>NaN</td>\n",
       "      <td>NaN</td>\n",
       "      <td>NaN</td>\n",
       "      <td>Y</td>\n",
       "      <td>NaN</td>\n",
       "      <td>NaN</td>\n",
       "    </tr>\n",
       "    <tr>\n",
       "      <th>1</th>\n",
       "      <td>3833063</td>\n",
       "      <td>US</td>\n",
       "      <td>2014086994</td>\n",
       "      <td>2014</td>\n",
       "      <td>MAP PHARMACEUTICALS</td>\n",
       "      <td>United States</td>\n",
       "      <td>NaN</td>\n",
       "      <td>NaN</td>\n",
       "      <td>NaN</td>\n",
       "      <td>Y</td>\n",
       "      <td>NaN</td>\n",
       "      <td>NaN</td>\n",
       "    </tr>\n",
       "    <tr>\n",
       "      <th>2</th>\n",
       "      <td>4166382</td>\n",
       "      <td>US</td>\n",
       "      <td>2012023992</td>\n",
       "      <td>2012</td>\n",
       "      <td>SANUVOX TECHNOLOGIES</td>\n",
       "      <td>Canada</td>\n",
       "      <td>NaN</td>\n",
       "      <td>NaN</td>\n",
       "      <td>NaN</td>\n",
       "      <td>Y</td>\n",
       "      <td>NaN</td>\n",
       "      <td>NaN</td>\n",
       "    </tr>\n",
       "    <tr>\n",
       "      <th>3</th>\n",
       "      <td>4169520</td>\n",
       "      <td>US</td>\n",
       "      <td>2011045576</td>\n",
       "      <td>2011</td>\n",
       "      <td>CO2 SOLUTIONS</td>\n",
       "      <td>Canada</td>\n",
       "      <td>NaN</td>\n",
       "      <td>NaN</td>\n",
       "      <td>NaN</td>\n",
       "      <td>Y</td>\n",
       "      <td>NaN</td>\n",
       "      <td>NaN</td>\n",
       "    </tr>\n",
       "    <tr>\n",
       "      <th>4</th>\n",
       "      <td>4169520</td>\n",
       "      <td>US</td>\n",
       "      <td>2011183397</td>\n",
       "      <td>2011</td>\n",
       "      <td>CO2 SOLUTIONS</td>\n",
       "      <td>Canada</td>\n",
       "      <td>NaN</td>\n",
       "      <td>NaN</td>\n",
       "      <td>NaN</td>\n",
       "      <td>Y</td>\n",
       "      <td>NaN</td>\n",
       "      <td>NaN</td>\n",
       "    </tr>\n",
       "  </tbody>\n",
       "</table>\n",
       "</div>"
      ],
      "text/plain": [
       "   docdb_family_id publn_auth    publn_nr  earliest_publn_year  \\\n",
       "0          3833063         US  2012090604                 2012   \n",
       "1          3833063         US  2014086994                 2014   \n",
       "2          4166382         US  2012023992                 2012   \n",
       "3          4169520         US  2011045576                 2011   \n",
       "4          4169520         US  2011183397                 2011   \n",
       "\n",
       "               psn_name person_ctry_code eu_member Affald Klimatilpasning  \\\n",
       "0   MAP PHARMACEUTICALS    United States       NaN    NaN             NaN   \n",
       "1   MAP PHARMACEUTICALS    United States       NaN    NaN             NaN   \n",
       "2  SANUVOX TECHNOLOGIES           Canada       NaN    NaN             NaN   \n",
       "3         CO2 SOLUTIONS           Canada       NaN    NaN             NaN   \n",
       "4         CO2 SOLUTIONS           Canada       NaN    NaN             NaN   \n",
       "\n",
       "  Luft Natur Vand  \n",
       "0    Y   NaN  NaN  \n",
       "1    Y   NaN  NaN  \n",
       "2    Y   NaN  NaN  \n",
       "3    Y   NaN  NaN  \n",
       "4    Y   NaN  NaN  "
      ]
     },
     "execution_count": 32,
     "metadata": {},
     "output_type": "execute_result"
    }
   ],
   "source": [
    "df_rådata.head()"
   ]
  },
  {
   "cell_type": "code",
   "execution_count": 33,
   "id": "f8f3286b",
   "metadata": {},
   "outputs": [],
   "source": [
    "df_rådata['Affald'] = df_rådata['Affald'].str.replace(\"Y\",\"Affald\")\n",
    "df_rådata['Klimatilpasning'] = df_rådata['Klimatilpasning'].str.replace(\"Y\",\"Klimatilpasning\")\n",
    "df_rådata['Luft'] = df_rådata['Luft'].str.replace(\"Y\",\"Luft\")\n",
    "df_rådata['Natur'] = df_rådata['Natur'].str.replace(\"Y\",\"Natur\")\n",
    "df_rådata['Vand'] = df_rådata['Vand'].str.replace(\"Y\",\"Vand\")"
   ]
  },
  {
   "cell_type": "code",
   "execution_count": 34,
   "id": "92514c85",
   "metadata": {},
   "outputs": [],
   "source": [
    "cols = [\"Affald\", \"Klimatilpasning\", \"Luft\", \"Natur\", \"Vand\"]\n",
    "Teknikområde =  df_rådata[cols].apply(lambda x: x.str.cat(sep=' '), axis=1)\n",
    "df_rådata[\"Teknikområde\"] = Teknikområde"
   ]
  },
  {
   "cell_type": "code",
   "execution_count": 35,
   "id": "a749afaf",
   "metadata": {},
   "outputs": [],
   "source": [
    "vand = df_rådata.groupby([\"person_ctry_code\", \"Vand\"]).size()\n",
    "vand.name = \"vand\"\n",
    "affald = df_rådata.groupby([\"person_ctry_code\", \"Affald\"]).size()\n",
    "affald.name = \"affald\"\n",
    "klimatilpasning = df_rådata.groupby([\"person_ctry_code\", \"Klimatilpasning\"]).size()\n",
    "klimatilpasning.name = \"klimatilpasning\"\n",
    "luft = df_rådata.groupby([\"person_ctry_code\", \"Luft\"]).size()\n",
    "luft.name = \"luft\"\n",
    "natur = df_rådata.groupby([\"person_ctry_code\", \"Natur\"]).size()\n",
    "natur.name = \"natur\""
   ]
  },
  {
   "cell_type": "markdown",
   "id": "a9425538",
   "metadata": {},
   "source": [
    "#### Når der er nogen patenter som går over flere teknikområder, bliver de her talt med for hver gang de fremgår inden for et teknikområde. Så begge gange vil blive talt."
   ]
  },
  {
   "cell_type": "markdown",
   "id": "06caff19",
   "metadata": {},
   "source": [
    "#### Nu er der både et dict som viser hvor mange samlede teknikområder de forskellige lande rækker sig over, og et dict som viser hvor mange patenter de forskellige lande har for hvert teknikområde (et dict for hvert område)\n",
    "\n",
    "#### Mangler at dividere med 10000 for hver, så dette også fremgår"
   ]
  },
  {
   "cell_type": "code",
   "execution_count": 36,
   "id": "b8c6a0cb",
   "metadata": {},
   "outputs": [],
   "source": [
    "teknikområder_dict = {}\n",
    "teknikområder = [vand, affald, klimatilpasning, luft, natur]\n",
    "\n",
    "for country in countries:\n",
    "    total = 0\n",
    "    for teknikområde in teknikområder:\n",
    "        try:\n",
    "            total += teknikområde[country].sum()\n",
    "        except:\n",
    "            total += 0\n",
    "    teknikområder_dict[country] = total"
   ]
  },
  {
   "cell_type": "code",
   "execution_count": 37,
   "id": "0cc271b5",
   "metadata": {},
   "outputs": [],
   "source": [
    "sorted_dict = dict(sorted(teknikområder_dict.items()))"
   ]
  },
  {
   "cell_type": "code",
   "execution_count": null,
   "id": "6626b944",
   "metadata": {},
   "outputs": [],
   "source": [
    "dicts = [vand, affald, klimatilpasning, luft, natur, sorted_dict]\n",
    "num_100000 = list(pop[\"Population / 100000\"])\n",
    "\n",
    "for dictionary in dicts:\n",
    "    try:\n",
    "        num_patents_specific = list(dictionary.values())\n",
    "    except:\n",
    "        num_patents_specific = list(dictionary.values)\n",
    "    res = [i / j for i, j in zip(num_patents_specific, num_100000)]"
   ]
  },
  {
   "cell_type": "code",
   "execution_count": null,
   "id": "b734f0c0",
   "metadata": {},
   "outputs": [],
   "source": [
    "num_patents = list(df_rådata.groupby([\"person_ctry_code\"]).size().values)\n",
    "num_100000 = list(pop[\"Population / 100000\"])\n",
    "res = [i / j for i, j in zip(num_patents, num_100000)]\n",
    "df_patents = pd.DataFrame(patents)\n",
    "df_patents = df_patents.rename(columns = {0:\"Patents\"})\n",
    "df_patents[\"2022 Inhabitants\"] = list(pop[\"2022 Population\"])\n",
    "df_patents[\"patents/(inhabitants/100000)\"] = res"
   ]
  },
  {
   "cell_type": "code",
   "execution_count": 67,
   "id": "bbcd9fe8",
   "metadata": {},
   "outputs": [
    {
     "data": {
      "text/plain": [
       "2"
      ]
     },
     "execution_count": 67,
     "metadata": {},
     "output_type": "execute_result"
    }
   ],
   "source": [
    "def set_per_10000"
   ]
  }
 ],
 "metadata": {
  "kernelspec": {
   "display_name": "Python 3 (ipykernel)",
   "language": "python",
   "name": "python3"
  },
  "language_info": {
   "codemirror_mode": {
    "name": "ipython",
    "version": 3
   },
   "file_extension": ".py",
   "mimetype": "text/x-python",
   "name": "python",
   "nbconvert_exporter": "python",
   "pygments_lexer": "ipython3",
   "version": "3.9.15"
  }
 },
 "nbformat": 4,
 "nbformat_minor": 5
}
