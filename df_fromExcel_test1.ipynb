{
 "cells": [
  {
   "cell_type": "code",
   "execution_count": 3,
   "id": "6c61cd98",
   "metadata": {},
   "outputs": [
    {
     "name": "stderr",
     "output_type": "stream",
     "text": [
      "2023-01-04 13:54:43.161 \n",
      "  \u001b[33m\u001b[1mWarning:\u001b[0m to view this Streamlit app on a browser, run it with the following\n",
      "  command:\n",
      "\n",
      "    streamlit run C:\\Users\\AndersRolighedLarsen\\anaconda3\\envs\\Streamlit_test1\\lib\\site-packages\\ipykernel_launcher.py [ARGUMENTS]\n"
     ]
    }
   ],
   "source": [
    "import numpy as np\n",
    "import altair as alt\n",
    "import pandas as pd\n",
    "import streamlit as st\n",
    "\n",
    "st.header('st.write')\n",
    "\n",
    "# Example 1\n",
    "\n",
    "st.write('Hello, *World!* :sunglasses:')\n",
    "\n",
    "# Example 2\n",
    "\n",
    "st.write(1234)\n",
    "\n",
    "# Example 3\n",
    "\n",
    "df = pd.read_excel(\"DF_test.xlsx\")\n",
    "\n",
    "st.write(df)\n",
    "\n",
    "# Example 4\n",
    "\n",
    "st.write('Below is a DataFrame:', df, 'Above is a dataframe.')\n",
    "\n",
    "# Example 5\n",
    "\n",
    "df2 = pd.DataFrame(\n",
    "     np.random.randn(200, 3),\n",
    "     columns=['a', 'b', 'c'])\n",
    "c = alt.Chart(df2).mark_circle().encode(\n",
    "     x='a', y='b', size='c', color='c', tooltip=['a', 'b', 'c'])\n",
    "st.write(c)"
   ]
  }
 ],
 "metadata": {
  "kernelspec": {
   "display_name": "Python 3 (ipykernel)",
   "language": "python",
   "name": "python3"
  },
  "language_info": {
   "codemirror_mode": {
    "name": "ipython",
    "version": 3
   },
   "file_extension": ".py",
   "mimetype": "text/x-python",
   "name": "python",
   "nbconvert_exporter": "python",
   "pygments_lexer": "ipython3",
   "version": "3.9.15"
  }
 },
 "nbformat": 4,
 "nbformat_minor": 5
}
